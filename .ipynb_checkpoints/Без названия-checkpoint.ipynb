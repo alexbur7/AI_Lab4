{
 "cells": [
  {
   "cell_type": "code",
   "execution_count": 9,
   "id": "c0b360b3-7f2a-44f3-8c62-1b1e9b1858ea",
   "metadata": {},
   "outputs": [],
   "source": [
    "rewards = []"
   ]
  },
  {
   "cell_type": "code",
   "execution_count": 2,
   "id": "b539b69f-ed1e-4af1-a854-23677d2262d5",
   "metadata": {},
   "outputs": [],
   "source": [
    "import numpy as np\n",
    "import random\n",
    "\n",
    "class Agent:\n",
    "    def init(self, alpha=0.45, epsilon=0.1, gamma=0.9):\n",
    "        self.alpha = alpha  # коэффициент обучения\n",
    "        self.epsilon = epsilon  # коэффициент исследования\n",
    "        self.gamma = gamma  # коэффициент дисконтирования\n",
    "        self.q_table = {}  # таблица Q-значений\n",
    "    \n",
    "    def get_possible_actions(self, state):\n",
    "        return [i for i, value in enumerate(state) if value == 0]\n",
    "    \n",
    "    def choose_action(self, state, possible_actions):\n",
    "        if random.uniform(0, 1) < self.epsilon:\n",
    "            action = random.choice(possible_actions)  # случайное действие\n",
    "        else:\n",
    "            q_values = [self.q_table.get((state, a), 0.0) for a in possible_actions]\n",
    "            if len(q_values) == 0:\n",
    "                action = random.choice(possible_actions)\n",
    "            else:\n",
    "                max_q = max(q_values)\n",
    "                count = q_values.count(max_q)\n",
    "                if count > 1:  # если несколько действий имеют одинаковые Q-значения\n",
    "                    best_actions = [a for a in possible_actions if self.q_table.get((state, a), 0.0) == max_q]\n",
    "                    action = random.choice(best_actions)\n",
    "                else:\n",
    "                    action = possible_actions[np.argmax(q_values)]\n",
    "        return action\n",
    "    \n",
    "    def learn(self, state, action, reward, next_state):\n",
    "        old_q_value = self.q_table.get((state, action), 0.0)\n",
    "        next_q_values = [self.q_table.get((next_state, a), 0.0) for a in self.get_possible_actions(next_state)]\n",
    "\n",
    "        if len(next_q_values) > 0:\n",
    "            max_q = max(next_q_values)\n",
    "        else:\n",
    "            max_q = 0\n",
    "\n",
    "        new_q_value = old_q_value + self.alpha * (reward + self.gamma * max_q - old_q_value)\n",
    "        self.q_table[(state, action)] = new_q_value"
   ]
  },
  {
   "cell_type": "code",
   "execution_count": 16,
   "id": "1c1ec01a-325d-4e11-a787-2e582dd01383",
   "metadata": {},
   "outputs": [],
   "source": [
    "class TicTacToeAgent:\n",
    "    def __init__(self, learning_rate=0.1, gamma=0.9, epsilon=0.9):\n",
    "        self.q_table = {}\n",
    "        self.learning_rate = learning_rate\n",
    "        self.gamma = gamma\n",
    "        self.epsilon = epsilon\n",
    "        \n",
    "    def get_possible_actions(self, state):\n",
    "        return [i for i, value in enumerate(state) if value == 0]\n",
    "    \n",
    "    def choose_action(self, state, possible_actions):\n",
    "        # В зависимости от случайного значения выбираем эксплорацию или эксплуатацию\n",
    "        if np.random.uniform(0, 1) < self.epsilon:\n",
    "            avail_actions = possible_actions\n",
    "            if len(avail_actions) > 0:\n",
    "                return np.random.choice(avail_actions)  # Случайное действие\n",
    "        else:\n",
    "            action_values = self.q_table[state]\n",
    "            best_actions = [action for action, value in enumerate(action_values) if value == np.max(action_values)]\n",
    "            return np.random.choice(best_actions)\n",
    "\n",
    "    def learn(self, state, action, reward, next_state):\n",
    "        if state not in self.q_table:\n",
    "            self.q_table[state] = np.zeros(9)\n",
    "        if next_state not in self.q_table:\n",
    "            self.q_table[next_state] = np.zeros(9)\n",
    "\n",
    "        td_target = reward + self.gamma * np.max(self.q_table[next_state])\n",
    "        td_error = td_target - self.q_table[state][action]\n",
    "        self.q_table[state][action] += self.learning_rate * td_error\n"
   ]
  },
  {
   "cell_type": "code",
   "execution_count": 11,
   "id": "ac94752f-85c2-4631-bb14-5b1d7fd02325",
   "metadata": {},
   "outputs": [],
   "source": [
    "def check(state, symbol):\n",
    "        winning_combinations = [[0, 1, 2], [1, 2, 0], [3, 4, 5], [4, 5, 3], [6, 7, 8], [7, 8, 6], [0, 2, 1], [3, 5, 4], [6, 8, 7], # горизонтальные\n",
    "                            [0, 3, 6], [3, 6, 0], [2, 5, 8], [5,8, 2], [1, 4, 7], [4, 7, 1], [0, 6, 3], [1, 7, 4], [2, 8, 5],  # вертикальные\n",
    "                            [0, 8, 4], [0, 4, 8], [4,8, 0], [2, 4, 6], [4, 6, 2], [2, 6, 4]]  # диагональные\n",
    "    \n",
    "        for combination in winning_combinations:\n",
    "            if state[combination[0]] == state[combination[1]] == symbol:\n",
    "                return { True: combination[2] }\n",
    "        return { False: combination[0] }"
   ]
  },
  {
   "cell_type": "code",
   "execution_count": 12,
   "id": "0899d26f-8e1a-4e58-8af4-1d25abe450d3",
   "metadata": {},
   "outputs": [],
   "source": [
    "class DefaultAgent:\n",
    "    \n",
    "    def get_possible_actions(self, state):\n",
    "        return [i for i, value in enumerate(state) if value == 0]\n",
    "    \n",
    "    def choose_action(self, state, possible_actions):\n",
    "        result_check = check(state, -1)\n",
    "        for key in result_check:\n",
    "            if key:\n",
    "                action = result_check[key]\n",
    "            else:\n",
    "                action = random.choice(possible_actions)\n",
    "        return action"
   ]
  },
  {
   "cell_type": "code",
   "execution_count": 13,
   "id": "455765d8-d10d-4350-bf98-3274e27a08f1",
   "metadata": {},
   "outputs": [],
   "source": [
    "def play_game(agent1, agent2):\n",
    "    state = [0, 0, 0, 0, 0, 0, 0, 0, 0]  # начальное состояние доски\n",
    "    game_over = False\n",
    "    \n",
    "    while not game_over:\n",
    "        # Ход первого агента\n",
    "        action1 = agent1.choose_action(tuple(state), agent1.get_possible_actions(state))\n",
    "        state[action1] = 1\n",
    "        \n",
    "        # Проверка на победу/ничью\n",
    "        if check_winner(state, 1):\n",
    "            rewards.append(1)\n",
    "            agent1.learn(tuple(state), action1, 1, tuple(state))\n",
    "            game_over = True\n",
    "            break\n",
    "\n",
    "        if not 0 in state:  # ничья\n",
    "            rewards.append(0)\n",
    "            agent1.learn(tuple(state), action1, 0, tuple(state))\n",
    "            game_over = True\n",
    "            break\n",
    "\n",
    "        # Ход второго агента\n",
    "        action2 = agent2.choose_action(tuple(state), agent2.get_possible_actions(state))\n",
    "        state[action2] = -1\n",
    "\n",
    "        # Проверка на победу/ничью\n",
    "        if check_winner(state, -1):\n",
    "            rewards.append(-1)\n",
    "            agent1.learn(tuple(state), action1, -1, tuple(state))\n",
    "            game_over = True\n",
    "            break\n",
    "\n",
    "    return game_over\n",
    "\n",
    "def check_winner(state, symbol):\n",
    "    winning_combinations = [[0, 1, 2], [3, 4, 5], [6, 7, 8],  # горизонтальные\n",
    "                            [0, 3, 6], [1, 4, 7], [2, 5, 8],  # вертикальные\n",
    "                            [0, 4, 8], [2, 4, 6]]  # диагональные\n",
    "    \n",
    "    for combination in winning_combinations:\n",
    "        if state[combination[0]] == state[combination[1]] == state[combination[2]] == symbol:\n",
    "            return True\n",
    "    return False"
   ]
  },
  {
   "cell_type": "code",
   "execution_count": 14,
   "id": "f7872dfd-170f-41a7-b31a-9c6ca03df220",
   "metadata": {},
   "outputs": [],
   "source": [
    "training_volume = 1000"
   ]
  },
  {
   "cell_type": "code",
   "execution_count": 17,
   "id": "082aafb2-70d4-4ef8-afd3-83141ad8f46e",
   "metadata": {},
   "outputs": [
    {
     "ename": "KeyError",
     "evalue": "(0, 1, 0, -1, 0, 0, 0, 0, 0)",
     "output_type": "error",
     "traceback": [
      "\u001b[0;31m---------------------------------------------------------------------------\u001b[0m",
      "\u001b[0;31mKeyError\u001b[0m                                  Traceback (most recent call last)",
      "Input \u001b[0;32mIn [17]\u001b[0m, in \u001b[0;36m<cell line: 7>\u001b[0;34m()\u001b[0m\n\u001b[1;32m      5\u001b[0m total_games \u001b[38;5;241m=\u001b[39m \u001b[38;5;241m1000\u001b[39m \u001b[38;5;241m*\u001b[39m training_volume\n\u001b[1;32m      7\u001b[0m \u001b[38;5;28;01mfor\u001b[39;00m i \u001b[38;5;129;01min\u001b[39;00m \u001b[38;5;28mrange\u001b[39m(total_games):\n\u001b[0;32m----> 8\u001b[0m     \u001b[43mplay_game\u001b[49m\u001b[43m(\u001b[49m\u001b[43magent1\u001b[49m\u001b[43m,\u001b[49m\u001b[43m \u001b[49m\u001b[43magent2\u001b[49m\u001b[43m)\u001b[49m\n\u001b[1;32m     10\u001b[0m \u001b[38;5;28mprint\u001b[39m(\u001b[38;5;124m\"\u001b[39m\u001b[38;5;124mStudying complete!\u001b[39m\u001b[38;5;124m\"\u001b[39m)\n\u001b[1;32m     12\u001b[0m analysis_rewards \u001b[38;5;241m=\u001b[39m []\n",
      "Input \u001b[0;32mIn [13]\u001b[0m, in \u001b[0;36mplay_game\u001b[0;34m(agent1, agent2)\u001b[0m\n\u001b[1;32m      3\u001b[0m game_over \u001b[38;5;241m=\u001b[39m \u001b[38;5;28;01mFalse\u001b[39;00m\n\u001b[1;32m      5\u001b[0m \u001b[38;5;28;01mwhile\u001b[39;00m \u001b[38;5;129;01mnot\u001b[39;00m game_over:\n\u001b[1;32m      6\u001b[0m     \u001b[38;5;66;03m# Ход первого агента\u001b[39;00m\n\u001b[0;32m----> 7\u001b[0m     action1 \u001b[38;5;241m=\u001b[39m \u001b[43magent1\u001b[49m\u001b[38;5;241;43m.\u001b[39;49m\u001b[43mchoose_action\u001b[49m\u001b[43m(\u001b[49m\u001b[38;5;28;43mtuple\u001b[39;49m\u001b[43m(\u001b[49m\u001b[43mstate\u001b[49m\u001b[43m)\u001b[49m\u001b[43m,\u001b[49m\u001b[43m \u001b[49m\u001b[43magent1\u001b[49m\u001b[38;5;241;43m.\u001b[39;49m\u001b[43mget_possible_actions\u001b[49m\u001b[43m(\u001b[49m\u001b[43mstate\u001b[49m\u001b[43m)\u001b[49m\u001b[43m)\u001b[49m\n\u001b[1;32m      8\u001b[0m     state[action1] \u001b[38;5;241m=\u001b[39m \u001b[38;5;241m1\u001b[39m\n\u001b[1;32m     10\u001b[0m     \u001b[38;5;66;03m# Проверка на победу/ничью\u001b[39;00m\n",
      "Input \u001b[0;32mIn [16]\u001b[0m, in \u001b[0;36mTicTacToeAgent.choose_action\u001b[0;34m(self, state, possible_actions)\u001b[0m\n\u001b[1;32m     16\u001b[0m         \u001b[38;5;28;01mreturn\u001b[39;00m np\u001b[38;5;241m.\u001b[39mrandom\u001b[38;5;241m.\u001b[39mchoice(avail_actions)  \u001b[38;5;66;03m# Случайное действие\u001b[39;00m\n\u001b[1;32m     17\u001b[0m \u001b[38;5;28;01melse\u001b[39;00m:\n\u001b[0;32m---> 18\u001b[0m     action_values \u001b[38;5;241m=\u001b[39m \u001b[38;5;28;43mself\u001b[39;49m\u001b[38;5;241;43m.\u001b[39;49m\u001b[43mq_table\u001b[49m\u001b[43m[\u001b[49m\u001b[43mstate\u001b[49m\u001b[43m]\u001b[49m\n\u001b[1;32m     19\u001b[0m     best_actions \u001b[38;5;241m=\u001b[39m [action \u001b[38;5;28;01mfor\u001b[39;00m action, value \u001b[38;5;129;01min\u001b[39;00m \u001b[38;5;28menumerate\u001b[39m(action_values) \u001b[38;5;28;01mif\u001b[39;00m value \u001b[38;5;241m==\u001b[39m np\u001b[38;5;241m.\u001b[39mmax(action_values)]\n\u001b[1;32m     20\u001b[0m     \u001b[38;5;28;01mreturn\u001b[39;00m np\u001b[38;5;241m.\u001b[39mrandom\u001b[38;5;241m.\u001b[39mchoice(best_actions)\n",
      "\u001b[0;31mKeyError\u001b[0m: (0, 1, 0, -1, 0, 0, 0, 0, 0)"
     ]
    }
   ],
   "source": [
    "#agent1 = NeuralAgent()\n",
    "agent1 = TicTacToeAgent()\n",
    "agent2 = DefaultAgent()\n",
    "\n",
    "total_games = 1000 * training_volume\n",
    "\n",
    "for i in range(total_games):\n",
    "    play_game(agent1, agent2)\n",
    "\n",
    "print(\"Studying complete!\")\n",
    "\n",
    "analysis_rewards = []\n",
    "\n",
    "counter = 0\n",
    "for index, data in enumerate(rewards):\n",
    "    if data == 1:\n",
    "        counter = counter + 1\n",
    "    if index % training_volume == 0:\n",
    "        analysis_rewards.append(counter)\n",
    "        counter = 0"
   ]
  },
  {
   "cell_type": "code",
   "execution_count": 8,
   "id": "ec58efd9-e4ef-4d6c-8f79-b065041a6077",
   "metadata": {},
   "outputs": [
    {
     "data": {
      "image/png": "[encoded data removed]",
      "text/plain": [
       "<Figure size 432x288 with 1 Axes>"
      ]
     },
     "metadata": {
      "needs_background": "light"
     },
     "output_type": "display_data"
    }
   ],
   "source": [
    "import matplotlib.pyplot as plt\n",
    "result = total_games/training_volume\n",
    "plt.plot(range(int(result)), analysis_rewards)\n",
    "plt.xlabel('Эпизоды обучения')\n",
    "plt.ylabel('Количество побед')\n",
    "plt.title('Зависимость количества побед от количества эпизодов обучения')\n",
    "plt.show()"
   ]
  },
  {
   "cell_type": "code",
   "execution_count": null,
   "id": "5784e122-77bc-4a44-9ad8-115df79ddd30",
   "metadata": {},
   "outputs": [],
   "source": []
  }
 ],
 "metadata": {
  "kernelspec": {
   "display_name": "Python 3 (ipykernel)",
   "language": "python",
   "name": "python3"
  },
  "language_info": {
   "codemirror_mode": {
    "name": "ipython",
    "version": 3
   },
   "file_extension": ".py",
   "mimetype": "text/x-python",
   "name": "python",
   "nbconvert_exporter": "python",
   "pygments_lexer": "ipython3",
   "version": "3.9.12"
  }
 },
 "nbformat": 4,
 "nbformat_minor": 5
}
