{
 "cells": [
  {
   "cell_type": "code",
   "execution_count": 9,
   "id": "dfb758a2-2d27-4ef4-8ef7-0148609eab14",
   "metadata": {},
   "outputs": [],
   "source": [
    "rewards = []"
   ]
  },
  {
   "cell_type": "code",
   "execution_count": 2,
   "id": "00a3154a-514f-418b-ac27-eea1861517d2",
   "metadata": {},
   "outputs": [],
   "source": [
    "import torch\n",
    "import torch.nn as nn\n",
    "import torch.optim as optim\n",
    "import random\n",
    "import numpy as np\n",
    "\n",
    "# Создание нейронной сети для оценки Q-значений\n",
    "class DQNNetwork(nn.Module):\n",
    "    def __init__(self, input_size, output_size, hidden_size=128):\n",
    "        super(DQNNetwork, self).__init__()\n",
    "        self.fc1 = nn.Linear(input_size, hidden_size)\n",
    "        self.fc2 = nn.Linear(hidden_size, hidden_size)\n",
    "        self.fc3 = nn.Linear(hidden_size, output_size)\n",
    "\n",
    "    def forward(self, x):\n",
    "        x = torch.relu(self.fc1(x))\n",
    "        x = torch.relu(self.fc2(x))\n",
    "        x = self.fc3(x)\n",
    "        return x\n",
    "\n",
    "class Agent:\n",
    "    def __init__(self, input_size, output_size, alpha=0.45, epsilon=1.0, gamma=0.9, batch_size=64):\n",
    "        self.alpha = alpha  # коэффициент обучения\n",
    "        self.epsilon = epsilon  # коэффициент исследования\n",
    "        self.gamma = gamma  # коэффициент дисконтирования\n",
    "        self.batch_size = batch_size\n",
    "        self.output_size = output_size\n",
    "\n",
    "        # Создание нейронной сети для оценки Q-значений\n",
    "        self.q_network = DQNNetwork(input_size, output_size)\n",
    "        self.optimizer = optim.Adam(self.q_network.parameters(), lr=alpha)\n",
    "        self.criterion = nn.MSELoss()\n",
    "        \n",
    "    def get_possible_actions(self, state):\n",
    "        return [i for i, value in enumerate(state) if value == 0]\n",
    "\n",
    "    def choose_action(self, state):\n",
    "        if np.random.rand() <= self.epsilon:\n",
    "            possible_actions = self.get_possible_actions(state)\n",
    "            return random.choice(possible_actions)  # случайное действие среди доступных\n",
    "        else:\n",
    "            q_values = self.q_network(torch.tensor(state).float())\n",
    "            possible_actions = self.get_possible_actions(state)\n",
    "            masked_q_values = q_values.clone()\n",
    "            for i in range(self.output_size):\n",
    "                if i not in possible_actions:\n",
    "                    masked_q_values[i] = float('-inf')  # Присваиваем -inf для недоступных действий\n",
    "            return torch.argmax(masked_q_values).item()  # выбираем наилучшее из доступных действий\n",
    "\n",
    "    def learn(self, state, action, reward, next_state, done):\n",
    "        q_values = self.q_network(torch.tensor(state).float())\n",
    "        next_q_values = self.q_network(torch.tensor(next_state).float())\n",
    "\n",
    "        q_update = reward\n",
    "        if not done:\n",
    "            q_update = reward + self.gamma * torch.max(next_q_values).item()\n",
    "\n",
    "        q_values[action] = q_update\n",
    "        target_q_values = self.q_network(torch.tensor(state).float())\n",
    "        loss = self.criterion(target_q_values, q_values)\n",
    "        self.optimizer.zero_grad()\n",
    "        loss.backward()\n",
    "        self.optimizer.step()\n",
    "\n",
    "        if self.epsilon > 0.01:\n",
    "            self.epsilon *= 0.995  # Exponential decay of epsilon"
   ]
  },
  {
   "cell_type": "code",
   "execution_count": 3,
   "id": "eac62726-096a-4401-ba8f-c2185c197984",
   "metadata": {},
   "outputs": [],
   "source": [
    "def check(state, symbol, possible_actions):\n",
    "        winning_combinations = [[0, 1, 2], [1, 2, 0], [3, 4, 5], [4, 5, 3], [6, 7, 8], [7, 8, 6], [0, 2, 1], [3, 5, 4], [6, 8, 7], # горизонтальные\n",
    "                            [0, 3, 6], [3, 6, 0], [2, 5, 8], [5, 8, 2], [1, 4, 7], [4, 7, 1], [0, 6, 3], [1, 7, 4], [2, 8, 5],  # вертикальные\n",
    "                            [0, 8, 4], [0, 4, 8], [4,8, 0], [2, 4, 6], [4, 6, 2], [2, 6, 4]]  # диагональные\n",
    "    \n",
    "        for combination in winning_combinations:\n",
    "            if state[combination[0]] == state[combination[1]] == symbol:\n",
    "                if combination[2] in possible_actions:\n",
    "                    return { True: combination[2] }\n",
    "        return { False: combination[0] }"
   ]
  },
  {
   "cell_type": "code",
   "execution_count": 4,
   "id": "243f4f50-71a2-4e38-b50b-d731943b5480",
   "metadata": {},
   "outputs": [],
   "source": [
    "class DefaultAgent:\n",
    "    \n",
    "    def get_possible_actions(self, state):\n",
    "        return [i for i, value in enumerate(state) if value == 0]\n",
    "    \n",
    "    def choose_action(self, state, possible_actions):\n",
    "        result_check = check(state, -1, possible_actions)\n",
    "        for key in result_check:\n",
    "            if key:\n",
    "                action = result_check[key]\n",
    "            else:\n",
    "                action = random.choice(possible_actions)\n",
    "        return action"
   ]
  },
  {
   "cell_type": "code",
   "execution_count": 5,
   "id": "dbb5f2d2-7cb7-483a-906d-26b37360dd33",
   "metadata": {},
   "outputs": [],
   "source": [
    "def play_game(agent1, agent2):\n",
    "    state = [0, 0, 0, 0, 0, 0, 0, 0, 0]  # начальное состояние доски\n",
    "    game_over = False\n",
    "    \n",
    "    while not game_over:\n",
    "        # Ход первого агента\n",
    "        action1 = agent1.choose_action(tuple(state))\n",
    "        state[action1] = 1\n",
    "\n",
    "        # Проверка на победу/ничью\n",
    "        if check_winner(state, 1):\n",
    "            rewards.append(1)\n",
    "            agent1.learn(tuple(state), action1, 1, tuple(state), True)\n",
    "            game_over = True\n",
    "            break\n",
    "\n",
    "        if not 0 in state:  # ничья\n",
    "            rewards.append(0)\n",
    "            agent1.learn(tuple(state), action1, 0, tuple(state), True)\n",
    "            game_over = True\n",
    "            break\n",
    "\n",
    "        # Ход второго агента\n",
    "        action2 = agent2.choose_action(tuple(state), agent2.get_possible_actions(state))\n",
    "        state[action2] = -1\n",
    "\n",
    "        # Проверка на победу/ничью\n",
    "        if check_winner(state, -1):\n",
    "            rewards.append(-1)\n",
    "            agent1.learn(tuple(state), action1, -1, tuple(state), True)\n",
    "            game_over = True\n",
    "            break\n",
    "\n",
    "    return game_over\n",
    "\n",
    "def check_winner(state, symbol):\n",
    "    winning_combinations = [[0, 1, 2], [3, 4, 5], [6, 7, 8],  # горизонтальные\n",
    "                            [0, 3, 6], [1, 4, 7], [2, 5, 8],  # вертикальные\n",
    "                            [0, 4, 8], [2, 4, 6]]  # диагональные\n",
    "    \n",
    "    for combination in winning_combinations:\n",
    "        if state[combination[0]] == state[combination[1]] == state[combination[2]] == symbol:\n",
    "            return True\n",
    "    return False"
   ]
  },
  {
   "cell_type": "code",
   "execution_count": 10,
   "id": "a9d9cd3c-b0bc-4261-876f-8204181b2619",
   "metadata": {},
   "outputs": [],
   "source": [
    "training_volume = 5000"
   ]
  },
  {
   "cell_type": "code",
   "execution_count": 11,
   "id": "b4d66ba5-3a84-46c6-90f3-c792801bc092",
   "metadata": {},
   "outputs": [
    {
     "name": "stdout",
     "output_type": "stream",
     "text": [
      "Studying complete!\n"
     ]
    }
   ],
   "source": [
    "agent1 = Agent(9, 9)\n",
    "agent2 = DefaultAgent()\n",
    "\n",
    "total_games = 1000 * training_volume\n",
    "\n",
    "for i in range(total_games):\n",
    "    play_game(agent1, agent2)\n",
    "\n",
    "print(\"Studying complete!\")\n",
    "\n",
    "analysis_rewards = []\n",
    "\n",
    "counter = 0\n",
    "for index, data in enumerate(rewards):\n",
    "    if data == 1:\n",
    "        counter = counter + 1\n",
    "    if index % training_volume == 0:\n",
    "        analysis_rewards.append(counter)\n",
    "        counter = 0"
   ]
  },
  {
   "cell_type": "code",
   "execution_count": 12,
   "id": "fc507caf-98d5-4215-bf3e-f7b90029e723",
   "metadata": {},
   "outputs": [
    {
     "data": {
      "image/png": "[encoded data removed]",
      "text/plain": [
       "<Figure size 432x288 with 1 Axes>"
      ]
     },
     "metadata": {
      "needs_background": "light"
     },
     "output_type": "display_data"
    }
   ],
   "source": [
    "import matplotlib.pyplot as plt\n",
    "result = total_games/training_volume\n",
    "plt.plot(range(int(result)), analysis_rewards)\n",
    "plt.xlabel('Эпизоды обучения')\n",
    "plt.ylabel('Количество побед')\n",
    "plt.title('Зависимость количества побед от количества эпизодов обучения')\n",
    "plt.show()"
   ]
  },
  {
   "cell_type": "code",
   "execution_count": null,
   "id": "9a5bd7a6-a405-42d6-80d9-70991d5db1d3",
   "metadata": {},
   "outputs": [],
   "source": []
  }
 ],
 "metadata": {
  "kernelspec": {
   "display_name": "Python 3 (ipykernel)",
   "language": "python",
   "name": "python3"
  },
  "language_info": {
   "codemirror_mode": {
    "name": "ipython",
    "version": 3
   },
   "file_extension": ".py",
   "mimetype": "text/x-python",
   "name": "python",
   "nbconvert_exporter": "python",
   "pygments_lexer": "ipython3",
   "version": "3.9.12"
  }
 },
 "nbformat": 4,
 "nbformat_minor": 5
}
